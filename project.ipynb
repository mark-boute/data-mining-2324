{
 "cells": [
  {
   "cell_type": "code",
   "execution_count": 46,
   "outputs": [],
   "source": [
    "def str_to_num_weekday(weekday: str):\n",
    "    if weekday == 'Monday': return 1\n",
    "    if weekday == 'Tuesday': return 2\n",
    "    if weekday == 'Wednesday': return 3\n",
    "    if weekday == 'Thursday': return 4\n",
    "    if weekday == 'Friday': return 5\n",
    "    if weekday == 'Saturday': return 6\n",
    "    if weekday == 'Sunday': return 7"
   ],
   "metadata": {
    "collapsed": false,
    "ExecuteTime": {
     "end_time": "2023-11-10T10:25:20.632923855Z",
     "start_time": "2023-11-10T10:25:20.623005980Z"
    }
   },
   "id": "3131c11969841b53"
  },
  {
   "cell_type": "code",
   "execution_count": 68,
   "id": "initial_id",
   "metadata": {
    "collapsed": true,
    "ExecuteTime": {
     "end_time": "2023-11-10T10:51:07.645500160Z",
     "start_time": "2023-11-10T10:51:07.437225133Z"
    }
   },
   "outputs": [],
   "source": [
    "from sklearn.tree import DecisionTreeClassifier\n",
    "import numpy as np\n",
    "import pandas as pd\n",
    "import datetime\n",
    "\n",
    "data = pd.read_csv('traffic.csv', dtype={'Date': 'int'})\n",
    "\n",
    "# Transform str 'Day of the week' to int to make it ordinal\n",
    "data['Day of the week'] = data['Day of the week'].map(lambda d: str_to_num_weekday(d))\n",
    "\n",
    "# transform Date and Time to Timestamp\n",
    "data['Date'] = data.apply(lambda row: pd.Timestamp(\n",
    "    year=2023, \n",
    "    month=1, \n",
    "    day=row['Date'],\n",
    "    hour=datetime.datetime.strptime(row['Time'], '%I:%M:%S %p').hour,\n",
    "    minute=datetime.datetime.strptime(row['Time'], '%I:%M:%S %p').minute\n",
    "), axis=1)\n",
    "data = data.drop(['Time'], axis='columns')"
   ]
  },
  {
   "cell_type": "code",
   "execution_count": 69,
   "outputs": [
    {
     "data": {
      "text/plain": "                    Date  Day of the week  CarCount  BikeCount  BusCount  \\\n0    2023-01-10 00:00:00                2        31          0         4   \n1    2023-01-10 00:15:00                2        49          0         3   \n2    2023-01-10 00:30:00                2        46          0         3   \n3    2023-01-10 00:45:00                2        51          0         2   \n4    2023-01-10 01:00:00                2        57          6        15   \n...                  ...              ...       ...        ...       ...   \n2971 2023-01-09 22:45:00                4        16          3         1   \n2972 2023-01-09 23:00:00                4        11          0         1   \n2973 2023-01-09 23:15:00                4        15          4         1   \n2974 2023-01-09 23:30:00                4        16          5         0   \n2975 2023-01-09 23:45:00                4        14          3         1   \n\n      TruckCount  Total Traffic Situation  \n0              4     39               low  \n1              3     55               low  \n2              6     55               low  \n3              5     58               low  \n4             16     94            normal  \n...          ...    ...               ...  \n2971          36     56            normal  \n2972          30     42            normal  \n2973          25     45            normal  \n2974          27     48            normal  \n2975          15     33            normal  \n\n[2976 rows x 8 columns]",
      "text/html": "<div>\n<style scoped>\n    .dataframe tbody tr th:only-of-type {\n        vertical-align: middle;\n    }\n\n    .dataframe tbody tr th {\n        vertical-align: top;\n    }\n\n    .dataframe thead th {\n        text-align: right;\n    }\n</style>\n<table border=\"1\" class=\"dataframe\">\n  <thead>\n    <tr style=\"text-align: right;\">\n      <th></th>\n      <th>Date</th>\n      <th>Day of the week</th>\n      <th>CarCount</th>\n      <th>BikeCount</th>\n      <th>BusCount</th>\n      <th>TruckCount</th>\n      <th>Total</th>\n      <th>Traffic Situation</th>\n    </tr>\n  </thead>\n  <tbody>\n    <tr>\n      <th>0</th>\n      <td>2023-01-10 00:00:00</td>\n      <td>2</td>\n      <td>31</td>\n      <td>0</td>\n      <td>4</td>\n      <td>4</td>\n      <td>39</td>\n      <td>low</td>\n    </tr>\n    <tr>\n      <th>1</th>\n      <td>2023-01-10 00:15:00</td>\n      <td>2</td>\n      <td>49</td>\n      <td>0</td>\n      <td>3</td>\n      <td>3</td>\n      <td>55</td>\n      <td>low</td>\n    </tr>\n    <tr>\n      <th>2</th>\n      <td>2023-01-10 00:30:00</td>\n      <td>2</td>\n      <td>46</td>\n      <td>0</td>\n      <td>3</td>\n      <td>6</td>\n      <td>55</td>\n      <td>low</td>\n    </tr>\n    <tr>\n      <th>3</th>\n      <td>2023-01-10 00:45:00</td>\n      <td>2</td>\n      <td>51</td>\n      <td>0</td>\n      <td>2</td>\n      <td>5</td>\n      <td>58</td>\n      <td>low</td>\n    </tr>\n    <tr>\n      <th>4</th>\n      <td>2023-01-10 01:00:00</td>\n      <td>2</td>\n      <td>57</td>\n      <td>6</td>\n      <td>15</td>\n      <td>16</td>\n      <td>94</td>\n      <td>normal</td>\n    </tr>\n    <tr>\n      <th>...</th>\n      <td>...</td>\n      <td>...</td>\n      <td>...</td>\n      <td>...</td>\n      <td>...</td>\n      <td>...</td>\n      <td>...</td>\n      <td>...</td>\n    </tr>\n    <tr>\n      <th>2971</th>\n      <td>2023-01-09 22:45:00</td>\n      <td>4</td>\n      <td>16</td>\n      <td>3</td>\n      <td>1</td>\n      <td>36</td>\n      <td>56</td>\n      <td>normal</td>\n    </tr>\n    <tr>\n      <th>2972</th>\n      <td>2023-01-09 23:00:00</td>\n      <td>4</td>\n      <td>11</td>\n      <td>0</td>\n      <td>1</td>\n      <td>30</td>\n      <td>42</td>\n      <td>normal</td>\n    </tr>\n    <tr>\n      <th>2973</th>\n      <td>2023-01-09 23:15:00</td>\n      <td>4</td>\n      <td>15</td>\n      <td>4</td>\n      <td>1</td>\n      <td>25</td>\n      <td>45</td>\n      <td>normal</td>\n    </tr>\n    <tr>\n      <th>2974</th>\n      <td>2023-01-09 23:30:00</td>\n      <td>4</td>\n      <td>16</td>\n      <td>5</td>\n      <td>0</td>\n      <td>27</td>\n      <td>48</td>\n      <td>normal</td>\n    </tr>\n    <tr>\n      <th>2975</th>\n      <td>2023-01-09 23:45:00</td>\n      <td>4</td>\n      <td>14</td>\n      <td>3</td>\n      <td>1</td>\n      <td>15</td>\n      <td>33</td>\n      <td>normal</td>\n    </tr>\n  </tbody>\n</table>\n<p>2976 rows × 8 columns</p>\n</div>"
     },
     "execution_count": 69,
     "metadata": {},
     "output_type": "execute_result"
    }
   ],
   "source": [
    "data"
   ],
   "metadata": {
    "collapsed": false,
    "ExecuteTime": {
     "end_time": "2023-11-10T10:51:08.790117672Z",
     "start_time": "2023-11-10T10:51:08.781939412Z"
    }
   },
   "id": "4679bca6075a76f8"
  },
  {
   "cell_type": "code",
   "execution_count": 71,
   "outputs": [],
   "source": [
    "X = data.drop('Traffic Situation', axis='columns')\n",
    "X['Date'] = pd.to_numeric(pd.to_datetime(X['Date']))\n",
    "\n",
    "clf = DecisionTreeClassifier()\n",
    "clf = clf.fit(X, data['Traffic Situation'])"
   ],
   "metadata": {
    "collapsed": false,
    "ExecuteTime": {
     "end_time": "2023-11-10T10:53:04.199857310Z",
     "start_time": "2023-11-10T10:53:04.159336046Z"
    }
   },
   "id": "b41c7875be92cb03"
  },
  {
   "cell_type": "code",
   "execution_count": null,
   "outputs": [],
   "source": [],
   "metadata": {
    "collapsed": false
   },
   "id": "8d1b5eb76538f60a"
  }
 ],
 "metadata": {
  "kernelspec": {
   "display_name": "Python 3",
   "language": "python",
   "name": "python3"
  },
  "language_info": {
   "codemirror_mode": {
    "name": "ipython",
    "version": 2
   },
   "file_extension": ".py",
   "mimetype": "text/x-python",
   "name": "python",
   "nbconvert_exporter": "python",
   "pygments_lexer": "ipython2",
   "version": "2.7.6"
  }
 },
 "nbformat": 4,
 "nbformat_minor": 5
}
