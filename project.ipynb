{
 "cells": [
  {
   "cell_type": "code",
   "execution_count": 1,
   "outputs": [],
   "source": [
    "def str_to_num_weekday(weekday: str):\n",
    "    if weekday == 'Monday': return 1\n",
    "    if weekday == 'Tuesday': return 2\n",
    "    if weekday == 'Wednesday': return 3\n",
    "    if weekday == 'Thursday': return 4\n",
    "    if weekday == 'Friday': return 5\n",
    "    if weekday == 'Saturday': return 6\n",
    "    if weekday == 'Sunday': return 7\n",
    "        \n",
    "traffic_situation_map = {\n",
    "    'low': 0,\n",
    "    'normal': 1,\n",
    "    'heavy': 2,\n",
    "    'high': 3\n",
    "}"
   ],
   "metadata": {
    "collapsed": false,
    "ExecuteTime": {
     "end_time": "2023-12-01T15:17:41.862186922Z",
     "start_time": "2023-12-01T15:17:41.861572976Z"
    }
   },
   "id": "3131c11969841b53"
  },
  {
   "cell_type": "code",
   "execution_count": 2,
   "id": "initial_id",
   "metadata": {
    "collapsed": true,
    "ExecuteTime": {
     "end_time": "2023-12-01T15:17:43.683662099Z",
     "start_time": "2023-12-01T15:17:42.238251389Z"
    }
   },
   "outputs": [
    {
     "name": "stdout",
     "output_type": "stream",
     "text": [
      "<class 'pandas.core.frame.DataFrame'>\n",
      "RangeIndex: 2976 entries, 0 to 2975\n",
      "Data columns (total 8 columns):\n",
      " #   Column             Non-Null Count  Dtype         \n",
      "---  ------             --------------  -----         \n",
      " 0   Date               2976 non-null   datetime64[ns]\n",
      " 1   Day of the week    2976 non-null   int64         \n",
      " 2   CarCount           2976 non-null   int64         \n",
      " 3   BikeCount          2976 non-null   int64         \n",
      " 4   BusCount           2976 non-null   int64         \n",
      " 5   TruckCount         2976 non-null   int64         \n",
      " 6   Total              2976 non-null   int64         \n",
      " 7   Traffic Situation  2976 non-null   string        \n",
      "dtypes: datetime64[ns](1), int64(6), string(1)\n",
      "memory usage: 186.1 KB\n"
     ]
    }
   ],
   "source": [
    "from sklearn.tree import DecisionTreeClassifier, plot_tree\n",
    "from sklearn.ensemble import RandomForestClassifier\n",
    "from sklearn.model_selection import train_test_split\n",
    "import pandas as pd\n",
    "import datetime\n",
    "\n",
    "data = pd.read_csv('traffic.csv', dtype={'Date': 'int', 'Traffic Situation': 'string'})\n",
    "\n",
    "# Transform str 'Day of the week' to int to make it ordinal\n",
    "data['Day of the week'] = data['Day of the week'].map(lambda d: str_to_num_weekday(d))\n",
    "\n",
    "# transform Date and Time to Timestamp\n",
    "data['Date'] = data.apply(lambda row: pd.Timestamp(\n",
    "    year=2023, \n",
    "    month=1, \n",
    "    day=row['Date'],\n",
    "    hour=datetime.datetime.strptime(row['Time'], '%I:%M:%S %p').hour,\n",
    "    minute=datetime.datetime.strptime(row['Time'], '%I:%M:%S %p').minute\n",
    "), axis=1)\n",
    "data = data.drop(['Time'], axis='columns')\n",
    "_ = data.info()"
   ]
  },
  {
   "cell_type": "code",
   "execution_count": 3,
   "outputs": [],
   "source": [
    "X = data\n",
    "X['Date'] = pd.to_numeric(pd.to_datetime(X['Date']))\n",
    "\n",
    "X_train, X_test, y_train, y_test = train_test_split(\n",
    "    X.drop('Traffic Situation', axis='columns'),\n",
    "    X['Traffic Situation'].map(traffic_situation_map),\n",
    "    train_size=0.8\n",
    ")"
   ],
   "metadata": {
    "collapsed": false,
    "ExecuteTime": {
     "end_time": "2023-12-01T15:17:43.739898205Z",
     "start_time": "2023-12-01T15:17:43.694349294Z"
    }
   },
   "id": "b41c7875be92cb03"
  },
  {
   "cell_type": "code",
   "execution_count": null,
   "outputs": [
    {
     "name": "stderr",
     "output_type": "stream",
     "text": [
      "/home/mark/.conda/envs/data-mining/lib/python3.8/site-packages/sklearn/base.py:465: UserWarning: X does not have valid feature names, but DecisionTreeClassifier was fitted with feature names\n",
      "/home/mark/.conda/envs/data-mining/lib/python3.8/site-packages/sklearn/base.py:465: UserWarning: X does not have valid feature names, but DecisionTreeClassifier was fitted with feature names\n",
      "/home/mark/.conda/envs/data-mining/lib/python3.8/site-packages/sklearn/base.py:465: UserWarning: X does not have valid feature names, but DecisionTreeClassifier was fitted with feature names\n",
      "/home/mark/.conda/envs/data-mining/lib/python3.8/site-packages/sklearn/base.py:458: UserWarning: X has feature names, but DecisionTreeClassifier was fitted without feature names\n",
      "/home/mark/.conda/envs/data-mining/lib/python3.8/site-packages/sklearn/base.py:458: UserWarning: X has feature names, but DecisionTreeClassifier was fitted without feature names\n",
      "/home/mark/.conda/envs/data-mining/lib/python3.8/site-packages/sklearn/base.py:458: UserWarning: X has feature names, but DecisionTreeClassifier was fitted without feature names\n",
      "/home/mark/.conda/envs/data-mining/lib/python3.8/site-packages/sklearn/base.py:458: UserWarning: X has feature names, but DecisionTreeClassifier was fitted without feature names\n",
      "/home/mark/.conda/envs/data-mining/lib/python3.8/site-packages/sklearn/base.py:458: UserWarning: X has feature names, but DecisionTreeClassifier was fitted without feature names\n",
      "/home/mark/.conda/envs/data-mining/lib/python3.8/site-packages/sklearn/base.py:458: UserWarning: X has feature names, but DecisionTreeClassifier was fitted without feature names\n",
      "/home/mark/.conda/envs/data-mining/lib/python3.8/site-packages/sklearn/base.py:458: UserWarning: X has feature names, but DecisionTreeClassifier was fitted without feature names\n",
      "/home/mark/.conda/envs/data-mining/lib/python3.8/site-packages/dtreeviz/trees.py:1417: RuntimeWarning: More than 20 figures have been opened. Figures created through the pyplot interface (`matplotlib.pyplot.figure`) are retained until explicitly closed and may consume too much memory. (To control this warning, see the rcParam `figure.max_open_warning`). Consider using `matplotlib.pyplot.close()`.\n",
      "/home/mark/.conda/envs/data-mining/lib/python3.8/site-packages/dtreeviz/trees.py:1134: RuntimeWarning: More than 20 figures have been opened. Figures created through the pyplot interface (`matplotlib.pyplot.figure`) are retained until explicitly closed and may consume too much memory. (To control this warning, see the rcParam `figure.max_open_warning`). Consider using `matplotlib.pyplot.close()`.\n",
      "/home/mark/.conda/envs/data-mining/lib/python3.8/site-packages/dtreeviz/trees.py:1444: RuntimeWarning: More than 20 figures have been opened. Figures created through the pyplot interface (`matplotlib.pyplot.figure`) are retained until explicitly closed and may consume too much memory. (To control this warning, see the rcParam `figure.max_open_warning`). Consider using `matplotlib.pyplot.close()`.\n",
      "/tmp/ipykernel_11999/593099230.py:19: RuntimeWarning: More than 20 figures have been opened. Figures created through the pyplot interface (`matplotlib.pyplot.figure`) are retained until explicitly closed and may consume too much memory. (To control this warning, see the rcParam `figure.max_open_warning`). Consider using `matplotlib.pyplot.close()`.\n",
      "/home/mark/.conda/envs/data-mining/lib/python3.8/site-packages/sklearn/base.py:458: UserWarning: X has feature names, but DecisionTreeClassifier was fitted without feature names\n",
      "/home/mark/.conda/envs/data-mining/lib/python3.8/site-packages/sklearn/base.py:458: UserWarning: X has feature names, but DecisionTreeClassifier was fitted without feature names\n",
      "/home/mark/.conda/envs/data-mining/lib/python3.8/site-packages/sklearn/base.py:458: UserWarning: X has feature names, but DecisionTreeClassifier was fitted without feature names\n",
      "/home/mark/.conda/envs/data-mining/lib/python3.8/site-packages/sklearn/base.py:458: UserWarning: X has feature names, but DecisionTreeClassifier was fitted without feature names\n",
      "/home/mark/.conda/envs/data-mining/lib/python3.8/site-packages/sklearn/base.py:458: UserWarning: X has feature names, but DecisionTreeClassifier was fitted without feature names\n",
      "/home/mark/.conda/envs/data-mining/lib/python3.8/site-packages/sklearn/base.py:458: UserWarning: X has feature names, but DecisionTreeClassifier was fitted without feature names\n",
      "/home/mark/.conda/envs/data-mining/lib/python3.8/site-packages/sklearn/base.py:458: UserWarning: X has feature names, but DecisionTreeClassifier was fitted without feature names\n",
      "/home/mark/.conda/envs/data-mining/lib/python3.8/site-packages/sklearn/base.py:458: UserWarning: X has feature names, but DecisionTreeClassifier was fitted without feature names\n",
      "/home/mark/.conda/envs/data-mining/lib/python3.8/site-packages/sklearn/base.py:458: UserWarning: X has feature names, but DecisionTreeClassifier was fitted without feature names\n",
      "/home/mark/.conda/envs/data-mining/lib/python3.8/site-packages/sklearn/base.py:458: UserWarning: X has feature names, but DecisionTreeClassifier was fitted without feature names\n",
      "/home/mark/.conda/envs/data-mining/lib/python3.8/site-packages/sklearn/base.py:458: UserWarning: X has feature names, but DecisionTreeClassifier was fitted without feature names\n",
      "/home/mark/.conda/envs/data-mining/lib/python3.8/site-packages/sklearn/base.py:458: UserWarning: X has feature names, but DecisionTreeClassifier was fitted without feature names\n",
      "/home/mark/.conda/envs/data-mining/lib/python3.8/site-packages/sklearn/base.py:458: UserWarning: X has feature names, but DecisionTreeClassifier was fitted without feature names\n",
      "/home/mark/.conda/envs/data-mining/lib/python3.8/site-packages/sklearn/base.py:458: UserWarning: X has feature names, but DecisionTreeClassifier was fitted without feature names\n",
      "/home/mark/.conda/envs/data-mining/lib/python3.8/site-packages/sklearn/base.py:458: UserWarning: X has feature names, but DecisionTreeClassifier was fitted without feature names\n",
      "/home/mark/.conda/envs/data-mining/lib/python3.8/site-packages/sklearn/base.py:458: UserWarning: X has feature names, but DecisionTreeClassifier was fitted without feature names\n",
      "/home/mark/.conda/envs/data-mining/lib/python3.8/site-packages/sklearn/base.py:458: UserWarning: X has feature names, but DecisionTreeClassifier was fitted without feature names\n",
      "/home/mark/.conda/envs/data-mining/lib/python3.8/site-packages/sklearn/base.py:458: UserWarning: X has feature names, but DecisionTreeClassifier was fitted without feature names\n",
      "/home/mark/.conda/envs/data-mining/lib/python3.8/site-packages/sklearn/base.py:458: UserWarning: X has feature names, but DecisionTreeClassifier was fitted without feature names\n",
      "/home/mark/.conda/envs/data-mining/lib/python3.8/site-packages/sklearn/base.py:458: UserWarning: X has feature names, but DecisionTreeClassifier was fitted without feature names\n",
      "/home/mark/.conda/envs/data-mining/lib/python3.8/site-packages/sklearn/base.py:458: UserWarning: X has feature names, but DecisionTreeClassifier was fitted without feature names\n",
      "/home/mark/.conda/envs/data-mining/lib/python3.8/site-packages/sklearn/base.py:458: UserWarning: X has feature names, but DecisionTreeClassifier was fitted without feature names\n",
      "/home/mark/.conda/envs/data-mining/lib/python3.8/site-packages/sklearn/base.py:458: UserWarning: X has feature names, but DecisionTreeClassifier was fitted without feature names\n"
     ]
    }
   ],
   "source": [
    "from matplotlib import pyplot as plt\n",
    "from sklearn.metrics import accuracy_score\n",
    "from sklearn.metrics import confusion_matrix, ConfusionMatrixDisplay\n",
    "import dtreeviz\n",
    "\n",
    "def gen_classifiers(tree_depth_zip, tc_type: str):\n",
    "    for clf, max_depth in tree_depth_zip:\n",
    "        try:\n",
    "            viz_model = dtreeviz.model(clf,\n",
    "                                       X_train=X_train, y_train=y_train,\n",
    "                                       feature_names=X.columns.values,\n",
    "                                       target_name='Traffic Situation',\n",
    "                                       class_names=list(traffic_situation_map.keys()))\n",
    "        \n",
    "            v = viz_model.view()\n",
    "            v.save(f\".%s/depth_%d.svg\" % (tc_type, max_depth))\n",
    "        except Exception:\n",
    "            pass\n",
    "        fig = plt.figure(figsize=(10,5))\n",
    "        _ = plot_tree(clf, feature_names=X.columns.values, class_names=list(traffic_situation_map.keys()), filled=True)\n",
    "        predictions = clf.predict(X_test)\n",
    "        disp = ConfusionMatrixDisplay(\n",
    "            confusion_matrix=confusion_matrix(y_test, predictions, labels=clf.classes_),\n",
    "            display_labels=list(traffic_situation_map.keys())\n",
    "        )\n",
    "        _ = disp.plot()\n",
    "        disp.ax_.set_title(f'Confussion matrix for %s with max depth: %s, and accuracy: %s' % (tc_type, max_depth, accuracy_score(y_test, predictions)))\n",
    "        \n",
    "gen_classifiers(\n",
    "    [(DecisionTreeClassifier(max_depth=max_depth).fit(X_train, y_train), max_depth) for max_depth in range(3, 6)],\n",
    "    'DecisionTreeClassifier'\n",
    ")\n",
    "\n",
    "rfs = [(RandomForestClassifier(n_estimators=100, random_state=0, max_depth=max_depth).fit(X_train, y_train), max_depth) for max_depth in range(3,6)]\n",
    "for rfc, max_depth in rfs:\n",
    "    gen_classifiers([(estimator, max_depth) for estimator in rfc], 'RandomForestClassifier')"
   ],
   "metadata": {
    "collapsed": false,
    "is_executing": true,
    "ExecuteTime": {
     "start_time": "2023-12-01T15:18:10.208262235Z"
    }
   },
   "id": "401133eb8af8e21d"
  },
  {
   "cell_type": "code",
   "execution_count": null,
   "outputs": [],
   "source": [],
   "metadata": {
    "collapsed": false
   },
   "id": "56c551bea7e444af"
  }
 ],
 "metadata": {
  "kernelspec": {
   "display_name": "Python 3",
   "language": "python",
   "name": "python3"
  },
  "language_info": {
   "codemirror_mode": {
    "name": "ipython",
    "version": 2
   },
   "file_extension": ".py",
   "mimetype": "text/x-python",
   "name": "python",
   "nbconvert_exporter": "python",
   "pygments_lexer": "ipython2",
   "version": "2.7.6"
  }
 },
 "nbformat": 4,
 "nbformat_minor": 5
}
